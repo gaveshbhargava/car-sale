{
  "nbformat": 4,
  "nbformat_minor": 0,
  "metadata": {
    "colab": {
      "provenance": [],
      "authorship_tag": "ABX9TyN6AN9r6QV/TMcRm0plUA43",
      "include_colab_link": true
    },
    "kernelspec": {
      "name": "python3",
      "display_name": "Python 3"
    },
    "language_info": {
      "name": "python"
    }
  },
  "cells": [
    {
      "cell_type": "markdown",
      "metadata": {
        "id": "view-in-github",
        "colab_type": "text"
      },
      "source": [
        "<a href=\"https://colab.research.google.com/github/gaveshbhargava/car-sale/blob/main/project_rollout_quiz_application.ipynb\" target=\"_parent\"><img src=\"https://colab.research.google.com/assets/colab-badge.svg\" alt=\"Open In Colab\"/></a>"
      ]
    },
    {
      "cell_type": "code",
      "execution_count": null,
      "metadata": {
        "colab": {
          "base_uri": "https://localhost:8080/"
        },
        "id": "dbhxX7lfQXTp",
        "outputId": "d3a6d55a-1431-499f-dd93-1ec74fb3cc7a"
      },
      "outputs": [
        {
          "output_type": "stream",
          "name": "stdout",
          "text": [
            "Welcome to the Quiz Application!\n",
            "\n",
            "What is the capital of France?\n",
            "(a) London\n",
            "(b) Berlin\n",
            "(c) Paris\n",
            "\n",
            "Your answer: c\n",
            "Correct!\n",
            "\n",
            "Which planet is known as the Red Planet?\n",
            "(a) Earth\n",
            "(b) Mars\n",
            "(c) Jupiter\n",
            "\n",
            "Your answer: b\n",
            "Correct!\n",
            "\n",
            "Who wrote 'Romeo and Juliet'?\n",
            "(a) Charles Dickens\n",
            "(b) William Shakespeare\n",
            "(c) J.K. Rowling\n",
            "\n",
            "Your answer: 2\n",
            "Wrong! The correct answer was: b\n",
            "\n",
            "You got 2/3 questions right.\n"
          ]
        }
      ],
      "source": [
        "class Question:\n",
        "    def __init__(self, prompt, answer):\n",
        "        self.prompt = prompt\n",
        "        self.answer = answer\n",
        "\n",
        "def run_quiz(questions):\n",
        "    score = 0\n",
        "    for question in questions:\n",
        "        print(question.prompt)\n",
        "        user_answer = input(\"Your answer: \")\n",
        "        if user_answer.strip().lower() == question.answer.strip().lower():\n",
        "            print(\"Correct!\\n\")\n",
        "            score += 1\n",
        "        else:\n",
        "            print(f\"Wrong! The correct answer was: {question.answer}\\n\")\n",
        "\n",
        "    print(f\"You got {score}/{len(questions)} questions right.\")\n",
        "\n",
        "def main():\n",
        "    print(\"Welcome to the Quiz Application!\\n\")\n",
        "\n",
        "    # Define quiz questions\n",
        "    question_prompts = [\n",
        "        \"What is the capital of France?\\n(a) London\\n(b) Berlin\\n(c) Paris\\n\",\n",
        "        \"Which planet is known as the Red Planet?\\n(a) Earth\\n(b) Mars\\n(c) Jupiter\\n\",\n",
        "        \"Who wrote 'Romeo and Juliet'?\\n(a) Charles Dickens\\n(b) William Shakespeare\\n(c) J.K. Rowling\\n\"\n",
        "    ]\n",
        "\n",
        "    # Correct answers\n",
        "    answers = [\"c\", \"b\", \"b\"]\n",
        "\n",
        "    # Create list of Question objects\n",
        "    questions = [Question(prompt, answer) for prompt, answer in zip(question_prompts, answers)]\n",
        "\n",
        "    # Run the quiz\n",
        "    run_quiz(questions)\n",
        "\n",
        "if __name__ == \"__main__\":\n",
        "    main()\n"
      ]
    }
  ]
}